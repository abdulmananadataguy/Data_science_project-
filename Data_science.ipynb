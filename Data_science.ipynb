{
  "nbformat": 4,
  "nbformat_minor": 0,
  "metadata": {
    "colab": {
      "provenance": [],
      "authorship_tag": "ABX9TyNO+4Y2/oGTGMvIF68o11tA",
      "include_colab_link": true
    },
    "kernelspec": {
      "name": "python3",
      "display_name": "Python 3"
    },
    "language_info": {
      "name": "python"
    }
  },
  "cells": [
    {
      "cell_type": "markdown",
      "metadata": {
        "id": "view-in-github",
        "colab_type": "text"
      },
      "source": [
        "<a href=\"https://colab.research.google.com/github/abdulmananadataguy/Data_science_project-/blob/main/Data_science.ipynb\" target=\"_parent\"><img src=\"https://colab.research.google.com/assets/colab-badge.svg\" alt=\"Open In Colab\"/></a>"
      ]
    },
    {
      "cell_type": "code",
      "execution_count": null,
      "metadata": {
        "id": "sxbr9TSgoFJk"
      },
      "outputs": [],
      "source": []
    },
    {
      "cell_type": "markdown",
      "source": [
        "## EDA"
      ],
      "metadata": {
        "id": "9_w4xbW2ooW3"
      }
    },
    {
      "cell_type": "code",
      "source": [],
      "metadata": {
        "id": "s0sYnX86opdN"
      },
      "execution_count": null,
      "outputs": []
    },
    {
      "cell_type": "markdown",
      "source": [
        "## SIMPLE"
      ],
      "metadata": {
        "id": "DQgevtD-op9t"
      }
    },
    {
      "cell_type": "code",
      "source": [],
      "metadata": {
        "id": "ig_6og6yorU8"
      },
      "execution_count": null,
      "outputs": []
    },
    {
      "cell_type": "markdown",
      "source": [
        "## CLASSICAL"
      ],
      "metadata": {
        "id": "mlJlrNkcosX1"
      }
    },
    {
      "cell_type": "code",
      "source": [],
      "metadata": {
        "id": "0i4MgluQot78"
      },
      "execution_count": null,
      "outputs": []
    },
    {
      "cell_type": "markdown",
      "source": [
        "\n",
        "##SUPER CLASSICAL"
      ],
      "metadata": {
        "id": "f6eTpzHgoufV"
      }
    },
    {
      "cell_type": "code",
      "source": [],
      "metadata": {
        "id": "_UDxGjIIoyBs"
      },
      "execution_count": null,
      "outputs": []
    }
  ]
}